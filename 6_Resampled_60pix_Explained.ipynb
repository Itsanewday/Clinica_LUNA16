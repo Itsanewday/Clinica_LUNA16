{
 "cells": [
  {
   "cell_type": "markdown",
   "metadata": {},
   "source": [
    "# Segmented Images (Pickle)"
   ]
  },
  {
   "cell_type": "markdown",
   "metadata": {},
   "source": [
    "### Libraries"
   ]
  },
  {
   "cell_type": "code",
   "execution_count": 1,
   "metadata": {},
   "outputs": [],
   "source": [
    "%matplotlib notebook\n",
    "\n",
    "import numpy as np # linear algebra\n",
    "import os\n",
    "import matplotlib.pyplot as plt\n",
    "import pickle\n",
    "import Lung_Segmentation as lung"
   ]
  },
  {
   "cell_type": "markdown",
   "metadata": {},
   "source": [
    "### Patients"
   ]
  },
  {
   "cell_type": "code",
   "execution_count": 2,
   "metadata": {},
   "outputs": [],
   "source": [
    "# Some constants \n",
    "INPUT_FOLDER = 'E:/Prac_Clinicas/Images/LIDC-IDRI/'\n",
    "patients = os.listdir(INPUT_FOLDER)\n",
    "patients.sort()"
   ]
  },
  {
   "cell_type": "code",
   "execution_count": 3,
   "metadata": {},
   "outputs": [
    {
     "name": "stdout",
     "output_type": "stream",
     "text": [
      "\n",
      "LIDC-IDRI-0001\n",
      "Original Shape: (133, 512, 512) \n",
      "First Resample: (66, 72, 72)\n",
      "Z Axis \n",
      "New Resample: (60, 72, 65) \n",
      "Y Axis \n",
      "New Resample: (60, 65, 72) \n",
      "X Axis \n",
      "New Resample: (60, 65, 65) \n",
      "Y Axis \n",
      "New Resample: (60, 60, 65) \n",
      "X Axis \n",
      "New Resample: (60, 60, 60) \n",
      "Final Shape: (60, 60, 60) \n",
      "Final Spacing: [5.54166667 6.         6.        ]\n",
      "\n",
      "LIDC-IDRI-0002\n",
      "Original Shape: (261, 512, 512) \n",
      "First Resample: (65, 70, 70)\n",
      "Z Axis \n",
      "New Resample: (59, 70, 63) \n",
      "Y Axis \n",
      "New Resample: (59, 63, 70) \n",
      "X Axis \n",
      "New Resample: (59, 63, 63) \n",
      "Y Axis \n",
      "New Resample: (59, 58, 63) \n",
      "X Axis \n",
      "New Resample: (59, 58, 58) \n",
      "Final Shape: (59, 58, 58) \n",
      "Final Spacing: [5.52966102 6.01724454 6.01724454]\n",
      "\n",
      "LIDC-IDRI-0003\n",
      "Original Shape: (140, 512, 512) \n",
      "First Resample: (70, 84, 84)\n",
      "Z Axis \n",
      "New Resample: (64, 84, 76) \n",
      "Y Axis \n",
      "New Resample: (64, 76, 84) \n",
      "X Axis \n",
      "New Resample: (64, 76, 76) \n",
      "Z Axis \n",
      "New Resample: (58, 76, 70) \n",
      "Y Axis \n",
      "New Resample: (58, 70, 76) \n",
      "X Axis \n",
      "New Resample: (58, 70, 70) \n",
      "Y Axis \n",
      "New Resample: (58, 65, 70) \n",
      "X Axis \n",
      "New Resample: (58, 65, 65) \n",
      "Y Axis \n",
      "New Resample: (58, 60, 65) \n",
      "X Axis \n",
      "New Resample: (58, 60, 60) \n",
      "Final Shape: (58, 60, 60) \n",
      "Final Spacing: [6.03448276 6.99999593 6.99999593]\n"
     ]
    }
   ],
   "source": [
    "for num, patient in enumerate(patients[:3]):\n",
    "    print('\\n'+patient)\n",
    "    Patient_Scan = lung.load_scan(INPUT_FOLDER + patient)\n",
    "    pickle_in = open('E:\\Prac_Clinicas\\Images\\Pickle\\Seg_Pat_{}.pickle'.format(num+1), 'rb')\n",
    "    Segmented_Lung = pickle.load(pickle_in)\n",
    "    Segmented_patient = np.array(Segmented_Lung)\n",
    "    Resampled_Lung = lung.resample(Segmented_patient[0], Patient_Scan)"
   ]
  },
  {
   "cell_type": "code",
   "execution_count": null,
   "metadata": {
    "scrolled": true
   },
   "outputs": [],
   "source": [
    "for num, patient in enumerate(patients[:1]):\n",
    "    print(patient)\n",
    "    Patient_Scan = lung.load_scan(INPUT_FOLDER + patient)\n",
    "    pickle_in = open('E:\\Prac_Clinicas\\Images\\Pickle\\Seg_Pat_{}.pickle'.format(num+1), 'rb')\n",
    "    Segmented_Lung = pickle.load(pickle_in)\n",
    "    Segmented_patient = np.array(Segmented_Lung)\n",
    "    Resampled_Lung, spacing, resize_factor, new_real_shape, new_shape, real_resize_factor, new_spacing = lung.shaping(Segmented_patient[0], Patient_Scan)\n",
    "    print('Image_Shape:{}\\nSpacing:{}\\nResize_factor:{}\\nNew_real_shape:{}\\nNew_shape:{}\\nReal_resize_factor:{}\\nNew_spacing:{}\\n'.format(Resampled_Lung.shape, spacing, resize_factor, new_real_shape, new_shape, real_resize_factor, new_spacing))"
   ]
  },
  {
   "cell_type": "code",
   "execution_count": null,
   "metadata": {},
   "outputs": [],
   "source": []
  }
 ],
 "metadata": {
  "kernelspec": {
   "display_name": "Python 3",
   "language": "python",
   "name": "python3"
  },
  "language_info": {
   "codemirror_mode": {
    "name": "ipython",
    "version": 3
   },
   "file_extension": ".py",
   "mimetype": "text/x-python",
   "name": "python",
   "nbconvert_exporter": "python",
   "pygments_lexer": "ipython3",
   "version": "3.8.3"
  }
 },
 "nbformat": 4,
 "nbformat_minor": 4
}

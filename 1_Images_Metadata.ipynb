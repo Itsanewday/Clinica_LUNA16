{
 "cells": [
  {
   "cell_type": "markdown",
   "metadata": {},
   "source": [
    "# DICOM Images\n",
    "\n",
    "Check Series UID values and compare to files Candidates_DF and Annotations_DF.\n",
    "\n",
    "The best approach to combine the information of the images and these two files is to match the series UID number to the patient folder.\n",
    "\n",
    "    EG: LIDC-IDRI-0001 ---> 1.3.6.1.4.1.14519.5.2.1.6279.6001.179049373636438705059720603192"
   ]
  },
  {
   "cell_type": "markdown",
   "metadata": {},
   "source": [
    "### Libraries"
   ]
  },
  {
   "cell_type": "code",
   "execution_count": 1,
   "metadata": {},
   "outputs": [],
   "source": [
    "import pydicom # dicom files\n",
    "import os # directory operations \n",
    "import pandas as pd # data analysis\n",
    "import matplotlib.pyplot as plt"
   ]
  },
  {
   "cell_type": "markdown",
   "metadata": {},
   "source": [
    "### Get DICOM Images Metadata"
   ]
  },
  {
   "cell_type": "code",
   "execution_count": 2,
   "metadata": {},
   "outputs": [],
   "source": [
    "data_dir = 'E:/Prac_Clinicas/Images/LIDC-IDRI/'\n",
    "patients = os.listdir(data_dir)"
   ]
  },
  {
   "cell_type": "code",
   "execution_count": 3,
   "metadata": {
    "scrolled": false
   },
   "outputs": [
    {
     "name": "stdout",
     "output_type": "stream",
     "text": [
      "[[-1024 -1024 -1024 ... -1024 -1024 -1024]\n",
      " [-1024 -1024 -1024 ... -1024 -1024 -1024]\n",
      " [-1024 -1024 -1024 ... -1024 -1024 -1024]\n",
      " ...\n",
      " [-1024 -1024 -1024 ... -1024 -1024 -1024]\n",
      " [-1024 -1024 -1024 ... -1024 -1024 -1024]\n",
      " [-1024 -1024 -1024 ... -1024 -1024 -1024]] 133\n",
      "[[-2000 -2000 -2000 ... -2000 -2000 -2000]\n",
      " [-2000 -2000 -2000 ... -2000 -2000 -2000]\n",
      " [-2000 -2000 -2000 ... -2000 -2000 -2000]\n",
      " ...\n",
      " [-2000 -2000 -2000 ... -2000 -2000 -2000]\n",
      " [-2000 -2000 -2000 ... -2000 -2000 -2000]\n",
      " [-2000 -2000 -2000 ... -2000 -2000 -2000]] 261\n",
      "261\n"
     ]
    }
   ],
   "source": [
    "for patient in patients[:2]:\n",
    "    path = data_dir + patient\n",
    "    slices = [pydicom.read_file(path + '/' + s) for s in os.listdir(path)]\n",
    "    slices.sort(key = lambda x: int(x.ImagePositionPatient[2]))\n",
    "    print(slices[0].pixel_array, len(slices))\n",
    "print(len(slices))"
   ]
  },
  {
   "cell_type": "code",
   "execution_count": null,
   "metadata": {},
   "outputs": [],
   "source": []
  }
 ],
 "metadata": {
  "kernelspec": {
   "display_name": "Python 3",
   "language": "python",
   "name": "python3"
  },
  "language_info": {
   "codemirror_mode": {
    "name": "ipython",
    "version": 3
   },
   "file_extension": ".py",
   "mimetype": "text/x-python",
   "name": "python",
   "nbconvert_exporter": "python",
   "pygments_lexer": "ipython3",
   "version": "3.8.3"
  }
 },
 "nbformat": 4,
 "nbformat_minor": 4
}

{
 "cells": [
  {
   "cell_type": "markdown",
   "metadata": {},
   "source": [
    "# Dataframe"
   ]
  },
  {
   "cell_type": "markdown",
   "metadata": {},
   "source": [
    "Match series UID with patient.\n",
    "\n",
    "Transform Nodule_Count into a binary label.\n",
    "\n",
    "How many patients without nodules.\n",
    "\n",
    "Divide the train and testing (similar no nodule patients in each group).\n",
    "\n"
   ]
  },
  {
   "cell_type": "markdown",
   "metadata": {},
   "source": [
    "# Dataframe labels"
   ]
  },
  {
   "cell_type": "markdown",
   "metadata": {},
   "source": [
    "Diameter\n",
    "\n",
    "Internal structure: Soft tissue\n",
    "\n",
    "Calcification: Absent\n",
    "\n",
    "Margin: Circumscribed margin\n",
    "\n",
    "Spiculation: 1 out of 5 (No spiculation)\n",
    "\n",
    "Texture: solid pulmonary nodule\n",
    "\n",
    "Malignancy: 4 out of 5 (Moderately Suspicious for Cancer)"
   ]
  },
  {
   "cell_type": "markdown",
   "metadata": {},
   "source": [
    "# Try 1\n",
    "Preprocess images (pulmonar threshold). Check notebooks from Kaggle\n",
    "\n",
    "Image redimension\n",
    "\n",
    "Nodule detection (U-net)\n",
    "\n",
    "# Try 2\n",
    "Dataframe label values analysis"
   ]
  }
 ],
 "metadata": {
  "kernelspec": {
   "display_name": "Python 3",
   "language": "python",
   "name": "python3"
  },
  "language_info": {
   "codemirror_mode": {
    "name": "ipython",
    "version": 3
   },
   "file_extension": ".py",
   "mimetype": "text/x-python",
   "name": "python",
   "nbconvert_exporter": "python",
   "pygments_lexer": "ipython3",
   "version": "3.8.3"
  }
 },
 "nbformat": 4,
 "nbformat_minor": 4
}

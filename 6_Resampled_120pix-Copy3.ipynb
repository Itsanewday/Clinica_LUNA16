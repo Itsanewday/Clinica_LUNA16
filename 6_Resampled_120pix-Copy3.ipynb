{
 "cells": [
  {
   "cell_type": "markdown",
   "metadata": {},
   "source": [
    "# Segmented Images (Pickle)"
   ]
  },
  {
   "cell_type": "markdown",
   "metadata": {},
   "source": [
    "### Libraries"
   ]
  },
  {
   "cell_type": "code",
   "execution_count": 1,
   "metadata": {},
   "outputs": [],
   "source": [
    "%matplotlib notebook\n",
    "\n",
    "import numpy as np # linear algebra\n",
    "import os\n",
    "import matplotlib.pyplot as plt\n",
    "import pickle\n",
    "import Lung_Segmentation as lung"
   ]
  },
  {
   "cell_type": "markdown",
   "metadata": {},
   "source": [
    "### Patients"
   ]
  },
  {
   "cell_type": "code",
   "execution_count": 2,
   "metadata": {},
   "outputs": [],
   "source": [
    "# Some constants \n",
    "INPUT_FOLDER = 'F:/Prac_Clinicas/Images/LIDC-IDRI/'\n",
    "patients = os.listdir(INPUT_FOLDER)\n",
    "patients.sort()"
   ]
  },
  {
   "cell_type": "code",
   "execution_count": 3,
   "metadata": {
    "scrolled": false
   },
   "outputs": [
    {
     "name": "stdout",
     "output_type": "stream",
     "text": [
      "\n",
      "LIDC-IDRI-0807\n",
      "Original Shape: (535, 512, 512) \n",
      "First Resample: (134, 111, 111)\n",
      "Z Axis \n",
      "New Resample: (125, 111, 111) \n",
      "X Y Axis \n",
      "New Resample: (125, 114, 114) \n",
      "Z Axis \n",
      "New Resample: (118, 114, 114) \n",
      "X Y Axis \n",
      "New Resample: (118, 119, 119) \n",
      "Z Axis \n",
      "New Resample: (118, 119, 119) \n",
      "X Y Axis \n",
      "New Resample: (118, 119, 119) \n",
      "Z Axis \n",
      "New Resample: (119, 119, 119) \n",
      "X Y Axis \n",
      "New Resample: (119, 119, 119) \n",
      "Z Axis \n",
      "New Resample: (119, 119, 119) \n",
      "X Y Axis \n",
      "New Resample: (119, 120, 120) \n",
      "Z Axis \n",
      "New Resample: (119, 120, 120) \n",
      "Z Axis \n",
      "New Resample: (120, 120, 120) \n",
      "Final Shape: (120, 120, 120) \n",
      "Final Spacing: [3.34375    2.76666667 2.76666667]\n",
      "\n",
      "LIDC-IDRI-0808\n",
      "Original Shape: (348, 512, 512) \n",
      "First Resample: (116, 87, 87)\n",
      "Z Axis \n",
      "New Resample: (116, 87, 87) \n",
      "X Y Axis \n",
      "New Resample: (116, 90, 90) \n",
      "Z Axis \n",
      "New Resample: (117, 90, 90) \n",
      "X Y Axis \n",
      "New Resample: (117, 93, 93) \n",
      "Z Axis \n",
      "New Resample: (117, 93, 93) \n",
      "X Y Axis \n",
      "New Resample: (117, 96, 96) \n",
      "Z Axis \n",
      "New Resample: (118, 96, 96) \n",
      "X Y Axis \n",
      "New Resample: (118, 100, 100) \n",
      "Z Axis \n",
      "New Resample: (118, 100, 100) \n",
      "X Y Axis \n",
      "New Resample: (118, 104, 104) \n",
      "Z Axis \n",
      "New Resample: (118, 104, 104) \n",
      "X Y Axis \n",
      "New Resample: (118, 108, 108) \n",
      "Z Axis \n",
      "New Resample: (119, 108, 108) \n",
      "X Y Axis \n",
      "New Resample: (119, 113, 113) \n",
      "Z Axis \n",
      "New Resample: (119, 113, 113) \n",
      "X Y Axis \n",
      "New Resample: (119, 118, 118) \n",
      "Z Axis \n",
      "New Resample: (120, 118, 118) \n",
      "X Y Axis \n",
      "New Resample: (120, 119, 119) \n",
      "X Y Axis \n",
      "New Resample: (120, 119, 119) \n",
      "X Y Axis \n",
      "New Resample: (120, 120, 120) \n",
      "Final Shape: (120, 120, 120) \n",
      "Final Spacing: [2.9        2.16666667 2.16666667]\n",
      "\n",
      "LIDC-IDRI-0809\n",
      "Original Shape: (198, 512, 512) \n",
      "First Resample: (132, 113, 113)\n",
      "Z Axis \n",
      "New Resample: (124, 113, 113) \n",
      "X Y Axis \n",
      "New Resample: (124, 117, 117) \n",
      "Z Axis \n",
      "New Resample: (122, 117, 117) \n",
      "X Y Axis \n",
      "New Resample: (122, 118, 118) \n",
      "Z Axis \n",
      "New Resample: (120, 118, 118) \n",
      "X Y Axis \n",
      "New Resample: (120, 118, 118) \n",
      "X Y Axis \n",
      "New Resample: (120, 118, 118) \n",
      "X Y Axis \n",
      "New Resample: (120, 119, 119) \n",
      "X Y Axis \n",
      "New Resample: (120, 119, 119) \n",
      "X Y Axis \n",
      "New Resample: (120, 120, 120) \n",
      "Final Shape: (120, 120, 120) \n",
      "Final Spacing: [3.3        2.83333333 2.83333333]\n"
     ]
    }
   ],
   "source": [
    "for num, patient in enumerate(patients[797:800]):\n",
    "    print('\\n'+patient)\n",
    "    Patient_Scan = lung.load_scan(INPUT_FOLDER + patient)\n",
    "    pickle_in = open('F:\\Prac_Clinicas\\Images\\Pickle\\Seg_Pat_{}.pickle'.format(num+798), 'rb')\n",
    "    Segmented_Lung = pickle.load(pickle_in)\n",
    "    Segmented_patient = np.array(Segmented_Lung)\n",
    "    Resampled_Lung = lung.resample(Segmented_patient[0], Patient_Scan)\n",
    "    with open ('F:\\Prac_Clinicas\\Images\\Resampled_pickle_120\\Patient_{}.pickle'.format(num+798), 'wb') as f:\n",
    "        pickle.dump(Resampled_Lung, f)"
   ]
  },
  {
   "cell_type": "code",
   "execution_count": null,
   "metadata": {},
   "outputs": [],
   "source": []
  }
 ],
 "metadata": {
  "kernelspec": {
   "display_name": "Python 3",
   "language": "python",
   "name": "python3"
  },
  "language_info": {
   "codemirror_mode": {
    "name": "ipython",
    "version": 3
   },
   "file_extension": ".py",
   "mimetype": "text/x-python",
   "name": "python",
   "nbconvert_exporter": "python",
   "pygments_lexer": "ipython3",
   "version": "3.8.3"
  }
 },
 "nbformat": 4,
 "nbformat_minor": 4
}
